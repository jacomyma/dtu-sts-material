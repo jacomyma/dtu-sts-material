{
  "nbformat": 4,
  "nbformat_minor": 0,
  "metadata": {
    "colab": {
      "provenance": [],
      "authorship_tag": "ABX9TyNiAYpouDDzOIW8WFsF4Vuz",
      "include_colab_link": true
    },
    "kernelspec": {
      "name": "python3",
      "display_name": "Python 3"
    },
    "language_info": {
      "name": "python"
    }
  },
  "cells": [
    {
      "cell_type": "markdown",
      "metadata": {
        "id": "view-in-github",
        "colab_type": "text"
      },
      "source": [
        "<a href=\"https://colab.research.google.com/github/jacomyma/dtu-sts-material/blob/main/notebooks/colab/Retrieve_subcorpus_Filter_and_export.ipynb\" target=\"_parent\"><img src=\"https://colab.research.google.com/assets/colab-badge.svg\" alt=\"Open In Colab\"/></a>"
      ]
    },
    {
      "cell_type": "markdown",
      "source": [
        "# Retrieve subcorpus - Filter and export\n",
        "\n",
        "*DTU - Explore the Energy Islands controversy*\n",
        "\n",
        "**Goal**:\n",
        "- Filter the dataset using a condition (a **query**)\n",
        "- Save the result as a CSV and/or as text\n",
        "\n",
        "**Purpose**:\n",
        "- Export a subcorpus CSV into another tool (ex: a spreadsheet)\n",
        "- Export the content as text to read it manually\n",
        "\n",
        "**How to use**:\n",
        "- Edit settings if you want\n",
        "- Then use \"Runtime > Run all\" or execute from the edited cell and below\n",
        "- Wait for each cell to run\n",
        "- ⚠️ Allow the script to access your Google Drive data when prompted to.\n",
        "- **Edit the query** as you see fit\n",
        "- Re-run that cell and the following ones to save the subcorpus\n",
        "- **Download** the subcorpus as CSV and/or text\n"
      ],
      "metadata": {
        "id": "r2Ylz0LwmiHH"
      }
    },
    {
      "cell_type": "markdown",
      "source": [
        "## Code\n",
        "\n",
        "(You don't have to understand what's going on here, but feel free to take a look)"
      ],
      "metadata": {
        "id": "_jo9MevdmHvo"
      }
    },
    {
      "cell_type": "code",
      "source": [
        "# Additional settings you shouldn't have to change\n",
        "settings = {}\n",
        "settings['statements_spreadsheet_drive_URL'] = 'https://docs.google.com/spreadsheets/d/1cSwVVXAB7kYRbGKEr6gc5IGs955dIfJNcCzyl_cywa8/edit?usp=drive_link'"
      ],
      "metadata": {
        "id": "H8Tbo1gYmIzS"
      },
      "execution_count": null,
      "outputs": []
    },
    {
      "cell_type": "markdown",
      "source": [
        "### Install stuff\n",
        "Note: already installed libraries will not be reinstalled, don't worry about re-running that."
      ],
      "metadata": {
        "id": "a62B1tFsm9ch"
      }
    },
    {
      "cell_type": "code",
      "source": [
        "#!pip install pandas gspread==5.10.0 google-auth==2.22.0 google-auth-oauthlib==1.0.0 google-auth-httplib2==0.1.0 bokeh\n",
        "!pip install pandas gspread google-auth google-auth-oauthlib google-auth-httplib2 bokeh"
      ],
      "metadata": {
        "id": "5HdeyDOomSpr",
        "colab": {
          "base_uri": "https://localhost:8080/"
        },
        "outputId": "500f40c2-536f-49ab-d1b4-526cc0899979"
      },
      "execution_count": null,
      "outputs": [
        {
          "output_type": "stream",
          "name": "stdout",
          "text": [
            "Requirement already satisfied: pandas in /usr/local/lib/python3.11/dist-packages (2.2.2)\n",
            "Requirement already satisfied: gspread in /usr/local/lib/python3.11/dist-packages (6.2.1)\n",
            "Requirement already satisfied: google-auth in /usr/local/lib/python3.11/dist-packages (2.38.0)\n",
            "Requirement already satisfied: google-auth-oauthlib in /usr/local/lib/python3.11/dist-packages (1.2.2)\n",
            "Requirement already satisfied: google-auth-httplib2 in /usr/local/lib/python3.11/dist-packages (0.2.0)\n",
            "Requirement already satisfied: bokeh in /usr/local/lib/python3.11/dist-packages (3.7.3)\n",
            "Requirement already satisfied: numpy>=1.23.2 in /usr/local/lib/python3.11/dist-packages (from pandas) (2.0.2)\n",
            "Requirement already satisfied: python-dateutil>=2.8.2 in /usr/local/lib/python3.11/dist-packages (from pandas) (2.9.0.post0)\n",
            "Requirement already satisfied: pytz>=2020.1 in /usr/local/lib/python3.11/dist-packages (from pandas) (2025.2)\n",
            "Requirement already satisfied: tzdata>=2022.7 in /usr/local/lib/python3.11/dist-packages (from pandas) (2025.2)\n",
            "Requirement already satisfied: cachetools<6.0,>=2.0.0 in /usr/local/lib/python3.11/dist-packages (from google-auth) (5.5.2)\n",
            "Requirement already satisfied: pyasn1-modules>=0.2.1 in /usr/local/lib/python3.11/dist-packages (from google-auth) (0.4.2)\n",
            "Requirement already satisfied: rsa<5,>=3.1.4 in /usr/local/lib/python3.11/dist-packages (from google-auth) (4.9.1)\n",
            "Requirement already satisfied: requests-oauthlib>=0.7.0 in /usr/local/lib/python3.11/dist-packages (from google-auth-oauthlib) (2.0.0)\n",
            "Requirement already satisfied: httplib2>=0.19.0 in /usr/local/lib/python3.11/dist-packages (from google-auth-httplib2) (0.22.0)\n",
            "Requirement already satisfied: Jinja2>=2.9 in /usr/local/lib/python3.11/dist-packages (from bokeh) (3.1.6)\n",
            "Requirement already satisfied: contourpy>=1.2 in /usr/local/lib/python3.11/dist-packages (from bokeh) (1.3.2)\n",
            "Requirement already satisfied: narwhals>=1.13 in /usr/local/lib/python3.11/dist-packages (from bokeh) (1.41.0)\n",
            "Requirement already satisfied: packaging>=16.8 in /usr/local/lib/python3.11/dist-packages (from bokeh) (24.2)\n",
            "Requirement already satisfied: pillow>=7.1.0 in /usr/local/lib/python3.11/dist-packages (from bokeh) (11.2.1)\n",
            "Requirement already satisfied: PyYAML>=3.10 in /usr/local/lib/python3.11/dist-packages (from bokeh) (6.0.2)\n",
            "Requirement already satisfied: tornado>=6.2 in /usr/local/lib/python3.11/dist-packages (from bokeh) (6.4.2)\n",
            "Requirement already satisfied: xyzservices>=2021.09.1 in /usr/local/lib/python3.11/dist-packages (from bokeh) (2025.4.0)\n",
            "Requirement already satisfied: pyparsing!=3.0.0,!=3.0.1,!=3.0.2,!=3.0.3,<4,>=2.4.2 in /usr/local/lib/python3.11/dist-packages (from httplib2>=0.19.0->google-auth-httplib2) (3.2.3)\n",
            "Requirement already satisfied: MarkupSafe>=2.0 in /usr/local/lib/python3.11/dist-packages (from Jinja2>=2.9->bokeh) (3.0.2)\n",
            "Requirement already satisfied: pyasn1<0.7.0,>=0.6.1 in /usr/local/lib/python3.11/dist-packages (from pyasn1-modules>=0.2.1->google-auth) (0.6.1)\n",
            "Requirement already satisfied: six>=1.5 in /usr/local/lib/python3.11/dist-packages (from python-dateutil>=2.8.2->pandas) (1.17.0)\n",
            "Requirement already satisfied: oauthlib>=3.0.0 in /usr/local/lib/python3.11/dist-packages (from requests-oauthlib>=0.7.0->google-auth-oauthlib) (3.2.2)\n",
            "Requirement already satisfied: requests>=2.0.0 in /usr/local/lib/python3.11/dist-packages (from requests-oauthlib>=0.7.0->google-auth-oauthlib) (2.32.3)\n",
            "Requirement already satisfied: charset-normalizer<4,>=2 in /usr/local/lib/python3.11/dist-packages (from requests>=2.0.0->requests-oauthlib>=0.7.0->google-auth-oauthlib) (3.4.2)\n",
            "Requirement already satisfied: idna<4,>=2.5 in /usr/local/lib/python3.11/dist-packages (from requests>=2.0.0->requests-oauthlib>=0.7.0->google-auth-oauthlib) (3.10)\n",
            "Requirement already satisfied: urllib3<3,>=1.21.1 in /usr/local/lib/python3.11/dist-packages (from requests>=2.0.0->requests-oauthlib>=0.7.0->google-auth-oauthlib) (2.4.0)\n",
            "Requirement already satisfied: certifi>=2017.4.17 in /usr/local/lib/python3.11/dist-packages (from requests>=2.0.0->requests-oauthlib>=0.7.0->google-auth-oauthlib) (2025.4.26)\n"
          ]
        }
      ]
    },
    {
      "cell_type": "code",
      "source": [
        "# Import necessary libraries\n",
        "import pandas as pd\n",
        "import json\n",
        "import matplotlib.pyplot as plt\n",
        "\n",
        "from google.colab import auth\n",
        "auth.authenticate_user()\n",
        "\n",
        "import gspread\n",
        "from google.auth import default\n",
        "creds, _ = default()\n",
        "\n",
        "gc = gspread.authorize(creds)\n",
        "\n",
        "import bokeh\n",
        "import bokeh.plotting as bp\n",
        "from bokeh.io import output_notebook, show\n",
        "from bokeh.models import ColumnDataSource, HoverTool, CategoricalColorMapper\n",
        "from bokeh.transform import factor_cmap"
      ],
      "metadata": {
        "id": "aDDrY7KnnMxs"
      },
      "execution_count": null,
      "outputs": []
    },
    {
      "cell_type": "markdown",
      "source": [
        "### Load data from the corpus"
      ],
      "metadata": {
        "id": "qa2IEgP6ou_X"
      }
    },
    {
      "cell_type": "code",
      "source": [
        "# Open the spreadsheet by its key or URL\n",
        "spreadsheet_key = settings['statements_spreadsheet_drive_URL'].split('/d/')[1].split('/edit')[0]\n",
        "sh = gc.open_by_key(spreadsheet_key)\n",
        "\n",
        "# Select the worksheet\n",
        "worksheet_name = 'dataset'\n",
        "worksheet = sh.worksheet(worksheet_name)"
      ],
      "metadata": {
        "id": "F5Xb_TlNov5h"
      },
      "execution_count": null,
      "outputs": []
    },
    {
      "cell_type": "code",
      "source": [
        "# Get all values from the worksheet as a list of lists\n",
        "data = worksheet.get_all_values()\n",
        "\n",
        "# Create a Pandas DataFrame from the list of lists\n",
        "df = pd.DataFrame(data[1:], columns=data[0])\n",
        "\n",
        "# Set 'Year' column to int\n",
        "df['Year'] = df['Year'].replace('', pd.NA)\n",
        "df['Year'] = pd.to_numeric(df['Year'], errors='coerce').astype(pd.Int64Dtype())\n",
        "\n",
        "# Set 'X', 'Y' and 'Size' columns to float\n",
        "df['X'] = pd.to_numeric(df['X'], errors='coerce')\n",
        "df['Y'] = pd.to_numeric(df['Y'], errors='coerce')\n",
        "df['Size'] = pd.to_numeric(df['Size'], errors='coerce')\n",
        "\n",
        "# Display dataframe for monitoring purposes\n",
        "#df\n",
        "print('Data loaded.')"
      ],
      "metadata": {
        "id": "QTVNExUio0GL",
        "colab": {
          "base_uri": "https://localhost:8080/"
        },
        "outputId": "d686b5d8-f85c-4711-f049-2797c5019635"
      },
      "execution_count": null,
      "outputs": [
        {
          "output_type": "stream",
          "name": "stdout",
          "text": [
            "Data loaded.\n"
          ]
        }
      ]
    },
    {
      "cell_type": "markdown",
      "source": [
        "### Other prep we need"
      ],
      "metadata": {
        "id": "PteyNn--L3U5"
      }
    },
    {
      "cell_type": "code",
      "source": [
        "# This is the function we will use to visualize a matching condition\n",
        "def visualize(condition, title='Proportion of filtered items'):\n",
        "  # Make a copy of df\n",
        "  df_copy = df.copy()\n",
        "\n",
        "  # Mark each row of df_copy as filtered if the condition is fulfilled\n",
        "  df_copy['filtered'] = condition\n",
        "\n",
        "  # Plot a pie chart with counts and percentages\n",
        "  filtered_counts = df_copy['filtered'].value_counts()\n",
        "\n",
        "  def make_autopct(values):\n",
        "      def my_autopct(pct):\n",
        "          total = sum(values)\n",
        "          val = int(round(pct*total/100.0))\n",
        "          return '{p:.1f}%\\n({v:d})'.format(p=pct,v=val)\n",
        "      return my_autopct\n",
        "\n",
        "  # Define the colors for True and False\n",
        "  colors = ['#4deded' if label else '#EAEAEA' for label in filtered_counts.index]\n",
        "\n",
        "  # Create a figure with a small size\n",
        "  plt.figure(figsize=(3, 3))\n",
        "\n",
        "  plt.pie(filtered_counts, autopct=make_autopct(filtered_counts), colors=colors, startangle=90)\n",
        "  plt.title(title)\n",
        "  plt.show()"
      ],
      "metadata": {
        "id": "zMf0IUKmL4Op"
      },
      "execution_count": null,
      "outputs": []
    },
    {
      "cell_type": "markdown",
      "source": [
        "# Filtering condition (QUERY)\n",
        "\n",
        "**Edit the condition (the query)**, then run this cell and those below to update them. Also give a title to your query for clarity."
      ],
      "metadata": {
        "id": "63_tzrTnLedT"
      }
    },
    {
      "cell_type": "code",
      "source": [
        "# EDIT ME\n",
        "condition = (\n",
        "    (df['Statement'].str.contains('Bornholm', case=False, na=False))\n",
        "  & (df['Source type'] == \"Social media\")\n",
        ")\n",
        "\n",
        "# EDIT ME (give an appropriate title to the query)\n",
        "title = \"Bornholm on social media\"\n",
        "\n",
        "# Check that it works\n",
        "visualize(condition, title)"
      ],
      "metadata": {
        "id": "BdBv5an0MC6k",
        "colab": {
          "base_uri": "https://localhost:8080/",
          "height": 290
        },
        "outputId": "cf23fcb4-b81f-4306-8e1a-ed46b9f8eb4a"
      },
      "execution_count": null,
      "outputs": [
        {
          "output_type": "display_data",
          "data": {
            "text/plain": [
              "<Figure size 300x300 with 1 Axes>"
            ],
            "image/png": "[encoded data removed]"
          },
          "metadata": {}
        }
      ]
    },
    {
      "cell_type": "markdown",
      "source": [
        "# Extract subcorpus"
      ],
      "metadata": {
        "id": "dk5_gKuueMtK"
      }
    },
    {
      "cell_type": "code",
      "source": [
        "# Extract\n",
        "df_sub = df.copy()\n",
        "df_sub = df_sub[condition]"
      ],
      "metadata": {
        "id": "y05m0qRtsiGo"
      },
      "execution_count": null,
      "outputs": []
    },
    {
      "cell_type": "code",
      "source": [
        "# Sanitize the title to create a valid filename\n",
        "import re\n",
        "# Replace any character that is not a letter, number, space, or underscore with an underscore\n",
        "sanitized_title = re.sub(r'[^\\w\\s-]', '', title)\n",
        "# Replace spaces with underscores\n",
        "sanitized_title = sanitized_title.replace(' ', '_')"
      ],
      "metadata": {
        "id": "c4wbnbsosorg"
      },
      "execution_count": null,
      "outputs": []
    },
    {
      "cell_type": "markdown",
      "source": [
        "# Save as CSV"
      ],
      "metadata": {
        "id": "k0MYZpUmstqK"
      }
    },
    {
      "cell_type": "code",
      "source": [
        "# Save as CSV using the sanitized title for name\n",
        "df_sub.to_csv(sanitized_title + '.csv', index=False)\n",
        "\n",
        "print(f\"Subcorpus saved as {sanitized_title}.csv. Download the file from the sidebar on the left.\")"
      ],
      "metadata": {
        "colab": {
          "base_uri": "https://localhost:8080/"
        },
        "id": "EkaWnxdLl1vT",
        "outputId": "3f4c37a4-d1da-408c-d519-aaf2a38f6105"
      },
      "execution_count": null,
      "outputs": [
        {
          "output_type": "stream",
          "name": "stdout",
          "text": [
            "Subcorpus saved as Bornholm_on_social_media.csv. Download the file from the sidebar on the left.\n"
          ]
        }
      ]
    },
    {
      "cell_type": "markdown",
      "source": [
        "# Save as text\n",
        "\n",
        "Note: formatted in Markdown."
      ],
      "metadata": {
        "id": "T_exhcpQs2Zc"
      }
    },
    {
      "cell_type": "code",
      "source": [
        "def fillMarkdownTemplate(id, actorName, actorStatement, publicationDate, source):\n",
        "  return f'''# {id}\n",
        "\n",
        "*{actorName}, stated(†) on {source}, the {publicationDate}:*\n",
        "\n",
        "{actorStatement}\n",
        "\n",
        "\n",
        "'''\n",
        "\n",
        "def makeMarkdown(df, filename):\n",
        "  # Fill template for each row\n",
        "  markdown = ''\n",
        "  for index, row in df.iterrows():\n",
        "    actor = df.at[index, 'Actor']\n",
        "    if df.at[index, 'Representative of']:\n",
        "      actor += \", \"+df.at[index, 'Representative of']\n",
        "    if df.at[index, 'Actor context']:\n",
        "      actor += f\" ({df.at[index, 'Actor context']})\"\n",
        "\n",
        "    source = df.at[index, 'Source name']\n",
        "    if df.at[index, 'Source type']:\n",
        "      source += \" (\"+df.at[index, 'Source type']+\")\"\n",
        "    markdown += fillMarkdownTemplate(df.at[index, 'id'], actor, df.at[index, 'Statement'], df.at[index, 'Date of publication'], source)\n",
        "  markdown += '\\n\\n# IMPORTANT NOTE ABOUT STATEMENTS\\n\\n(†) The original statements have been modified to facilitate the data science process.'\n",
        "\n",
        "  # Save markdown as file\n",
        "  with open(filename, 'w') as f:\n",
        "    f.write(markdown)\n",
        "  print(f'File created: {filename}. Download the file from the sidebar on the left.')\n",
        "\n",
        "makeMarkdown(df_sub, sanitized_title + '.txt')"
      ],
      "metadata": {
        "colab": {
          "base_uri": "https://localhost:8080/"
        },
        "id": "JFhMUcCbsz7o",
        "outputId": "76279fe9-c781-4d02-9f4b-8a82635a3e39"
      },
      "execution_count": null,
      "outputs": [
        {
          "output_type": "stream",
          "name": "stdout",
          "text": [
            "File created: Bornholm_on_social_media.txt. Download the file from the sidebar on the left.\n"
          ]
        }
      ]
    }
  ]
}