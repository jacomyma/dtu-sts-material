{
 "cells": [
  {
   "cell_type": "markdown",
   "metadata": {
    "colab_type": "text",
    "id": "view-in-github"
   },
   "source": [
    "<a href=\"https://colab.research.google.com/github/jacomyma/dtu-sts-material/blob/main/notebooks/colab/Timeline_Filter_and_render.ipynb\" target=\"_parent\"><img src=\"https://colab.research.google.com/assets/colab-badge.svg\" alt=\"Open In Colab\"/></a>"
   ]
  },
  {
   "cell_type": "markdown",
   "metadata": {
    "id": "r2Ylz0LwmiHH"
   },
   "source": [
    "# Timeline - Filter and render\n",
    "\n",
    "*DTU - Explore the Energy Islands controversy*\n",
    "\n",
    "**Goal**:\n",
    "- Filter the visualization using a condition (a **query**)\n",
    "- Render the visualization as a static image\n",
    "- You have 4 variations to choose from\n",
    "\n",
    "**How to use**:\n",
    "- Edit settings if you want\n",
    "- Then use \"Runtime > Run all\" or execute from the edited cell and below\n",
    "- Wait for each cell to run\n",
    "- ⚠️ Allow the script to access your Google Drive data when prompted to.\n",
    "- **Edit the query** as you see fit\n",
    "- Re-run that cell and the following ones to update the visualizations\n"
   ]
  },
  {
   "cell_type": "markdown",
   "metadata": {
    "id": "Z4qDBwYwl_cZ"
   },
   "source": [
    "## Settings"
   ]
  },
  {
   "cell_type": "code",
   "execution_count": null,
   "metadata": {
    "id": "Mfz7_m54mAXe"
   },
   "outputs": [],
   "source": [
    "# SETTINGS (edit if necessary)\n",
    "settings = {}\n",
    "settings['year_first'] = 2016\n",
    "settings['year_last'] = 2024\n",
    "settings['plot_width']  = 12 # In cm\n",
    "settings['plot_height'] =  6 # In cm"
   ]
  },
  {
   "cell_type": "markdown",
   "metadata": {
    "id": "_jo9MevdmHvo"
   },
   "source": [
    "## Code\n",
    "\n",
    "(You don't have to understand what's going on here, but feel free to take a look)"
   ]
  },
  {
   "cell_type": "code",
   "execution_count": null,
   "metadata": {
    "id": "H8Tbo1gYmIzS"
   },
   "outputs": [],
   "source": [
    "# Additional settings you shouldn't have to change\n",
    "settings['statements_spreadsheet_drive_URL'] = 'https://docs.google.com/spreadsheets/d/1cSwVVXAB7kYRbGKEr6gc5IGs955dIfJNcCzyl_cywa8/edit?usp=drive_link'"
   ]
  },
  {
   "cell_type": "markdown",
   "metadata": {
    "id": "a62B1tFsm9ch"
   },
   "source": [
    "### Install stuff\n",
    "Note: already installed libraries will not be reinstalled, don't worry about re-running that."
   ]
  },
  {
   "cell_type": "code",
   "execution_count": null,
   "metadata": {
    "colab": {
     "base_uri": "https://localhost:8080/"
    },
    "id": "5HdeyDOomSpr",
    "outputId": "12baf902-86fa-4eac-f9e9-a10b66d93f5b"
   },
   "outputs": [],
   "source": [
    "!pip install pandas==2.2.2 gspread google-auth google-auth-oauthlib google-auth-httplib2"
   ]
  },
  {
   "cell_type": "code",
   "execution_count": null,
   "metadata": {
    "id": "aDDrY7KnnMxs"
   },
   "outputs": [],
   "source": [
    "# Import necessary libraries\n",
    "import pandas as pd\n",
    "import json\n",
    "import matplotlib.pyplot as plt\n",
    "\n",
    "from google.colab import auth\n",
    "auth.authenticate_user()\n",
    "\n",
    "import gspread\n",
    "from google.auth import default\n",
    "creds, _ = default()\n",
    "\n",
    "gc = gspread.authorize(creds)"
   ]
  },
  {
   "cell_type": "markdown",
   "metadata": {
    "id": "qa2IEgP6ou_X"
   },
   "source": [
    "### Load data from the corpus"
   ]
  },
  {
   "cell_type": "code",
   "execution_count": null,
   "metadata": {
    "id": "F5Xb_TlNov5h"
   },
   "outputs": [],
   "source": [
    "# Open the spreadsheet by its key or URL\n",
    "spreadsheet_key = settings['statements_spreadsheet_drive_URL'].split('/d/')[1].split('/edit')[0]\n",
    "sh = gc.open_by_key(spreadsheet_key)\n",
    "\n",
    "# Select the worksheet\n",
    "worksheet_name = 'dataset'\n",
    "worksheet = sh.worksheet(worksheet_name)"
   ]
  },
  {
   "cell_type": "code",
   "execution_count": null,
   "metadata": {
    "colab": {
     "base_uri": "https://localhost:8080/"
    },
    "id": "QTVNExUio0GL",
    "outputId": "91ede2c1-bf1d-4003-fe73-9d44a9fb005b"
   },
   "outputs": [],
   "source": [
    "# Get all values from the worksheet as a list of lists\n",
    "data = worksheet.get_all_values()\n",
    "\n",
    "# Create a Pandas DataFrame from the list of lists\n",
    "df = pd.DataFrame(data[1:], columns=data[0])\n",
    "\n",
    "# Set 'Year' column to int\n",
    "df['Year'] = df['Year'].replace('', pd.NA)\n",
    "df['Year'] = pd.to_numeric(df['Year'], errors='coerce').astype(pd.Int64Dtype())\n",
    "\n",
    "# Set 'X', 'Y' and 'Size' columns to float\n",
    "df['X'] = pd.to_numeric(df['X'], errors='coerce')\n",
    "df['Y'] = pd.to_numeric(df['Y'], errors='coerce')\n",
    "df['Size'] = pd.to_numeric(df['Size'], errors='coerce')\n",
    "\n",
    "# Display dataframe for monitoring purposes\n",
    "#df\n",
    "print('Data loaded.')"
   ]
  },
  {
   "cell_type": "markdown",
   "metadata": {
    "id": "PteyNn--L3U5"
   },
   "source": [
    "### Other prep we need"
   ]
  },
  {
   "cell_type": "code",
   "execution_count": null,
   "metadata": {
    "id": "zMf0IUKmL4Op"
   },
   "outputs": [],
   "source": [
    "# This is the function we will use to visualize a matching condition\n",
    "def visualize(condition, title='Proportion of filtered items'):\n",
    "  # Make a copy of df\n",
    "  df_copy = df.copy()\n",
    "\n",
    "  # Mark each row of df_copy as filtered if the condition is fulfilled\n",
    "  df_copy['filtered'] = condition\n",
    "\n",
    "  # Plot a pie chart with counts and percentages\n",
    "  filtered_counts = df_copy['filtered'].value_counts()\n",
    "\n",
    "  def make_autopct(values):\n",
    "      def my_autopct(pct):\n",
    "          total = sum(values)\n",
    "          val = int(round(pct*total/100.0))\n",
    "          return '{p:.1f}%\\n({v:d})'.format(p=pct,v=val)\n",
    "      return my_autopct\n",
    "\n",
    "  # Define the colors for True and False\n",
    "  colors = ['#4deded' if label else '#EAEAEA' for label in filtered_counts.index]\n",
    "\n",
    "  # Create a figure with a small size\n",
    "  plt.figure(figsize=(3, 3))\n",
    "\n",
    "  plt.pie(filtered_counts, autopct=make_autopct(filtered_counts), colors=colors, startangle=90)\n",
    "  plt.title(title)\n",
    "  plt.show()"
   ]
  },
  {
   "cell_type": "markdown",
   "metadata": {
    "id": "63_tzrTnLedT"
   },
   "source": [
    "# Filtering condition (QUERY)\n",
    "\n",
    "**Edit the condition (the query)**, then run this cell and those below to update them. Also give a title to your query for clarity."
   ]
  },
  {
   "cell_type": "code",
   "execution_count": null,
   "metadata": {
    "colab": {
     "base_uri": "https://localhost:8080/",
     "height": 290
    },
    "id": "BdBv5an0MC6k",
    "outputId": "617015b4-3db7-40bb-9b9e-b74501a94a52"
   },
   "outputs": [],
   "source": [
    "# EDIT ME\n",
    "condition = (\n",
    "    (df['Statement'].str.contains('Bornholm', case=False, na=False))\n",
    "  & (df['Source type'] == \"Social media\")\n",
    ")\n",
    "\n",
    "# EDIT ME (give an appropriate title to the query)\n",
    "title = \"Bornholm on social media\"\n",
    "\n",
    "# Check that it works\n",
    "visualize(condition, title)"
   ]
  },
  {
   "cell_type": "markdown",
   "metadata": {
    "id": "dk5_gKuueMtK"
   },
   "source": [
    "# Render the visualizations"
   ]
  },
  {
   "cell_type": "markdown",
   "metadata": {
    "id": "0UrIzBqfqkRC"
   },
   "source": [
    "## 1. Timeline in absolute values, with context\n",
    "\n",
    "PROs: Compares the query to the total. Comparable scales across different queries.\n",
    "\n",
    "CONs: If the data volume is low, the pattern is too small to be visible, which also makes the small bars (low-volume months) impossible to analyze."
   ]
  },
  {
   "cell_type": "code",
   "execution_count": null,
   "metadata": {
    "colab": {
     "base_uri": "https://localhost:8080/",
     "height": 625
    },
    "id": "NBBoaM7fjHso",
    "outputId": "7dff5a88-87ae-45b6-d79a-98a689d928d2"
   },
   "outputs": [],
   "source": [
    "# Duplicate df into df_\n",
    "df_ = df.copy()\n",
    "\n",
    "# Mark each row of df_copy as filtered if the condition is fulfilled\n",
    "df_['filtered'] = condition\n",
    "\n",
    "# Remove rows where Year is out of range\n",
    "df_ = df_[df_['Year'] >= settings['year_first']]\n",
    "df_ = df_[df_['Year'] <= settings['year_last']]\n",
    "\n",
    "# Convert 'Date of publication' to datetime\n",
    "df_['Date of publication'] = pd.to_datetime(df_['Date of publication'], format='%Y-%m-%d', errors='coerce')\n",
    "\n",
    "# Drop rows with invalid dates (NaT) resulting from the coercion\n",
    "df_ = df_.dropna(subset=['Date of publication'])\n",
    "\n",
    "# Group by month and filter status, then count statements\n",
    "monthly_statements = df_.groupby([pd.Grouper(key='Date of publication', freq='ME'), 'filtered'])['filtered'].count().unstack(fill_value=0)\n",
    "\n",
    "# Create the bar chart\n",
    "plt.figure(figsize=(settings['plot_width'], settings['plot_height']))\n",
    "\n",
    "# Set the x-axis limits\n",
    "plt.xlim(pd.to_datetime(f'{settings[\"year_first\"]-1}-12-01'), pd.to_datetime(f'{settings[\"year_last\"]+1}-01-31'))\n",
    "\n",
    "try: plt.bar(monthly_statements.index, monthly_statements[True], width=30, color='#00bbbd', label='True')\n",
    "except: pass\n",
    "\n",
    "try: plt.bar(monthly_statements.index, monthly_statements[False], width=30, bottom=monthly_statements[True], color='#EAEAEA', label='False')\n",
    "except: pass\n",
    "\n",
    "plt.xlabel('Date')\n",
    "plt.ylabel('Number of Statements')\n",
    "plt.title('Evolution of Statements per Month - '+title)\n",
    "plt.grid(True)\n",
    "plt.xticks(rotation=45)\n",
    "plt.legend(title=title) # Display legend\n",
    "plt.tight_layout()\n",
    "\n",
    "# Save in 300dpi\n",
    "filename = 'Timeline 1.png'\n",
    "plt.savefig(filename, dpi=300)\n",
    "print(f\"Figure saved as '{filename}'.\")\n",
    "\n",
    "plt.show()"
   ]
  },
  {
   "cell_type": "markdown",
   "metadata": {
    "id": "cGyEWQyXvWc7"
   },
   "source": [
    "## 2. Timeline in absolute values, no context\n",
    "\n",
    "Same as above, except without the grey bars.\n",
    "\n",
    "PROs: Readable even when the general volume is low.\n",
    "\n",
    "CONs: We can't compare to the total. We can't compare multiple queries, as they will have different scalings. The low-volume categories remain impossible to analyze."
   ]
  },
  {
   "cell_type": "code",
   "execution_count": null,
   "metadata": {
    "colab": {
     "base_uri": "https://localhost:8080/",
     "height": 625
    },
    "id": "W3OQ2xU1sa8E",
    "outputId": "0a805781-9062-41c5-a66b-949511c35ce0"
   },
   "outputs": [],
   "source": [
    "# Duplicate df into df_\n",
    "df_ = df.copy()\n",
    "\n",
    "# Mark each row of df_copy as filtered if the condition is fulfilled\n",
    "df_['filtered'] = condition\n",
    "\n",
    "# Remove rows where Year is out of range\n",
    "df_ = df_[df_['Year'] >= settings['year_first']]\n",
    "df_ = df_[df_['Year'] <= settings['year_last']]\n",
    "\n",
    "# Convert 'Date of publication' to datetime\n",
    "df_['Date of publication'] = pd.to_datetime(df_['Date of publication'], format='%Y-%m-%d', errors='coerce')\n",
    "\n",
    "# Drop rows with invalid dates (NaT) resulting from the coercion\n",
    "df_ = df_.dropna(subset=['Date of publication'])\n",
    "\n",
    "# Group by month and filter status, then count statements\n",
    "monthly_statements = df_.groupby([pd.Grouper(key='Date of publication', freq='ME'), 'filtered'])['filtered'].count().unstack(fill_value=0)\n",
    "\n",
    "# Create the bar chart\n",
    "plt.figure(figsize=(settings['plot_width'], settings['plot_height']))\n",
    "\n",
    "# Set the x-axis limits\n",
    "plt.xlim(pd.to_datetime(f'{settings[\"year_first\"]-1}-12-01'), pd.to_datetime(f'{settings[\"year_last\"]+1}-01-31'))\n",
    "\n",
    "try: plt.bar(monthly_statements.index, monthly_statements[True], width=30, color='#00bbbd', label='True')\n",
    "except: pass\n",
    "\n",
    "plt.xlabel('Date')\n",
    "plt.ylabel('Number of Statements')\n",
    "plt.title('Evolution of Statements per Month - '+title)\n",
    "plt.grid(True)\n",
    "plt.xticks(rotation=45)\n",
    "plt.tight_layout()\n",
    "\n",
    "# Save in 300dpi\n",
    "filename = 'Timeline 2.png'\n",
    "plt.savefig(filename, dpi=300)\n",
    "print(f\"Figure saved as '{filename}'.\")\n",
    "\n",
    "plt.show()"
   ]
  },
  {
   "cell_type": "markdown",
   "metadata": {
    "id": "1i37LrX9wodH"
   },
   "source": [
    "## 3. Timeline in percentages, with context\n",
    "\n",
    "Instead of the absolute values, we plot the percentage of statements.\n",
    "\n",
    "PROs: The percentage makes more sense in more situations, because it takes the context (total volume) into account. Compares the query to the total.\n",
    "\n",
    "CONs: If the query is low-volume it may not be readable. Months with very low volume get overrepresented."
   ]
  },
  {
   "cell_type": "code",
   "execution_count": null,
   "metadata": {
    "colab": {
     "base_uri": "https://localhost:8080/",
     "height": 625
    },
    "id": "R4euookrwB9D",
    "outputId": "5950532e-c0c7-474e-da8a-e6798567bc23"
   },
   "outputs": [],
   "source": [
    "# Duplicate df into df_\n",
    "df_ = df.copy()\n",
    "\n",
    "# Mark each row of df_copy as filtered if the condition is fulfilled\n",
    "df_['filtered'] = condition\n",
    "\n",
    "# Remove rows where Year is out of range\n",
    "df_ = df_[df_['Year'] >= settings['year_first']]\n",
    "df_ = df_[df_['Year'] <= settings['year_last']]\n",
    "\n",
    "# Convert 'Date of publication' to datetime\n",
    "df_['Date of publication'] = pd.to_datetime(df_['Date of publication'], format='%Y-%m-%d', errors='coerce')\n",
    "\n",
    "# Drop rows with invalid dates (NaT) resulting from the coercion\n",
    "df_ = df_.dropna(subset=['Date of publication'])\n",
    "\n",
    "# Group by month and filter status, then count statements\n",
    "monthly_statements = df_.groupby([pd.Grouper(key='Date of publication', freq='ME'), 'filtered'])['filtered'].count().unstack(fill_value=0)\n",
    "\n",
    "# Calculate percentages\n",
    "monthly_statements_percentage = monthly_statements.div(monthly_statements.sum(axis=1), axis=0) * 100\n",
    "\n",
    "# Create the bar chart\n",
    "plt.figure(figsize=(settings['plot_width'], settings['plot_height']))\n",
    "\n",
    "# Set the x-axis limits\n",
    "plt.xlim(pd.to_datetime(f'{settings[\"year_first\"]-1}-12-01'), pd.to_datetime(f'{settings[\"year_last\"]+1}-01-31'))\n",
    "\n",
    "try:\n",
    "    plt.bar(monthly_statements_percentage.index, monthly_statements_percentage[True], width=30, color='#00BBBD', label='True')\n",
    "    plt.bar(monthly_statements_percentage.index, monthly_statements_percentage[False], width=30, bottom=monthly_statements_percentage[True], color='#EAEAEA', label='False')\n",
    "except:\n",
    "    pass\n",
    "\n",
    "plt.xlabel('Date')\n",
    "plt.ylabel('Percentage of Statements')\n",
    "plt.title('Evolution of Statements per Month (Percentage) - '+title)\n",
    "plt.grid(True)\n",
    "plt.xticks(rotation=45)\n",
    "plt.legend(title=title) # Display legend\n",
    "plt.tight_layout()\n",
    "\n",
    "# Save in 300dpi\n",
    "filename = 'Timeline 3.png'\n",
    "plt.savefig(filename, dpi=300)\n",
    "print(f\"Figure saved as '{filename}'.\")\n",
    "\n",
    "plt.show()"
   ]
  },
  {
   "cell_type": "markdown",
   "metadata": {
    "id": "uzB0rtonymCA"
   },
   "source": [
    "## 4. Timeline in percentages, no context\n",
    "\n",
    "Same as above but we adapt the Y scale.\n",
    "\n",
    "PROs: The percentage makes more sense in more situations. Always readable.\n",
    "\n",
    "CONs: Categories with very low volume get overrepresented."
   ]
  },
  {
   "cell_type": "code",
   "execution_count": null,
   "metadata": {
    "colab": {
     "base_uri": "https://localhost:8080/",
     "height": 625
    },
    "id": "2C1H75YdyNa0",
    "outputId": "efd840c4-962a-44af-c4ab-92ab506c9675"
   },
   "outputs": [],
   "source": [
    "# Duplicate df into df_\n",
    "df_ = df.copy()\n",
    "\n",
    "# Mark each row of df_copy as filtered if the condition is fulfilled\n",
    "df_['filtered'] = condition\n",
    "\n",
    "# Remove rows where Year is out of range\n",
    "df_ = df_[df_['Year'] >= settings['year_first']]\n",
    "df_ = df_[df_['Year'] <= settings['year_last']]\n",
    "\n",
    "# Convert 'Date of publication' to datetime\n",
    "df_['Date of publication'] = pd.to_datetime(df_['Date of publication'], format='%Y-%m-%d', errors='coerce')\n",
    "\n",
    "# Drop rows with invalid dates (NaT) resulting from the coercion\n",
    "df_ = df_.dropna(subset=['Date of publication'])\n",
    "\n",
    "# Group by month and filter status, then count statements\n",
    "monthly_statements = df_.groupby([pd.Grouper(key='Date of publication', freq='ME'), 'filtered'])['filtered'].count().unstack(fill_value=0)\n",
    "\n",
    "# Calculate percentages\n",
    "monthly_statements_percentage = monthly_statements.div(monthly_statements.sum(axis=1), axis=0) * 100\n",
    "\n",
    "# Create the bar chart\n",
    "plt.figure(figsize=(settings['plot_width'], settings['plot_height']))\n",
    "\n",
    "# Set the x-axis limits\n",
    "plt.xlim(pd.to_datetime(f'{settings[\"year_first\"]-1}-12-01'), pd.to_datetime(f'{settings[\"year_last\"]+1}-01-31'))\n",
    "\n",
    "try:\n",
    "    plt.bar(monthly_statements_percentage.index, monthly_statements_percentage[True], width=30, color='#00BBBD', label='True')\n",
    "except:\n",
    "    pass\n",
    "\n",
    "plt.xlabel('Date')\n",
    "plt.ylabel('Percentage of Statements')\n",
    "plt.title('Evolution of Statements per Month (Percentage) - '+title)\n",
    "plt.grid(True)\n",
    "plt.xticks(rotation=45)\n",
    "plt.tight_layout()\n",
    "\n",
    "# Save in 300dpi\n",
    "filename = 'Timeline 4.png'\n",
    "plt.savefig(filename, dpi=300)\n",
    "print(f\"Figure saved as '{filename}'.\")\n",
    "\n",
    "plt.show()"
   ]
  }
 ],
 "metadata": {
  "colab": {
   "authorship_tag": "ABX9TyMuYPhWTA5TWf6v5r4XcUZd",
   "include_colab_link": true,
   "provenance": []
  },
  "kernelspec": {
   "display_name": "Python 3 (ipykernel)",
   "language": "python",
   "name": "python3"
  },
  "language_info": {
   "codemirror_mode": {
    "name": "ipython",
    "version": 3
   },
   "file_extension": ".py",
   "mimetype": "text/x-python",
   "name": "python",
   "nbconvert_exporter": "python",
   "pygments_lexer": "ipython3",
   "version": "3.12.4"
  }
 },
 "nbformat": 4,
 "nbformat_minor": 4
}
