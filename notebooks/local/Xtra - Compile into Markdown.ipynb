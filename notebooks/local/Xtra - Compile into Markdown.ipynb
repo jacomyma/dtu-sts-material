{
 "cells": [
  {
   "cell_type": "markdown",
   "metadata": {
    "id": "bTUZm0ETXGhD"
   },
   "source": [
    "# Compile Statements into Markdown\n",
    "\n",
    "*DTU - Explore the controversy about Energy Island*\n",
    "\n",
    "**Goal**: Compile the spreadsheet data into a big Markdown file\n",
    "\n",
    "**Purpose**: Feed into NotebookLM or another AI assistant.\n",
    "\n",
    "**How to use**:\n",
    "- Edit settings then run all\n",
    "- Wait for each cell to run"
   ]
  },
  {
   "cell_type": "markdown",
   "metadata": {
    "id": "M4Q2rwEvXbHK"
   },
   "source": [
    "## Code\n",
    "\n",
    "(You don't have to understand what's going on here, but feel free to take a look)"
   ]
  },
  {
   "cell_type": "code",
   "execution_count": null,
   "metadata": {
    "id": "s8A4HFwcXWdi"
   },
   "outputs": [],
   "source": [
    "# File URL\n",
    "settings = {}\n",
    "#settings['statements_dataset'] = '../../data/Actor statement dataset.csv' # Edit path to online or local file\n",
    "settings['statements_dataset'] = 'https://jacomyma.github.io/dtu-sts-material/data/Actor%20statement%20dataset.csv'"
   ]
  },
  {
   "cell_type": "markdown",
   "metadata": {
    "id": "a62B1tFsm9ch"
   },
   "source": [
    "### Install stuff\n",
    "Note: already installed libraries will not be reinstalled, don't worry about re-running that."
   ]
  },
  {
   "cell_type": "code",
   "execution_count": null,
   "metadata": {
    "id": "5HdeyDOomSpr"
   },
   "outputs": [],
   "source": [
    "!pip install pandas"
   ]
  },
  {
   "cell_type": "code",
   "execution_count": null,
   "metadata": {
    "id": "aDDrY7KnnMxs"
   },
   "outputs": [],
   "source": [
    "# Import necessary libraries\n",
    "import pandas as pd\n",
    "from datetime import datetime"
   ]
  },
  {
   "cell_type": "markdown",
   "metadata": {
    "id": "qa2IEgP6ou_X"
   },
   "source": [
    "### Load data from the corpus"
   ]
  },
  {
   "cell_type": "code",
   "execution_count": null,
   "metadata": {
    "id": "QTVNExUio0GL"
   },
   "outputs": [],
   "source": [
    "# Load dataset\n",
    "df = pd.read_csv(settings['statements_dataset'], dtype=str)\n",
    "df = df.fillna('')\n",
    "\n",
    "# Set 'Year' column to int\n",
    "df['Year'] = df['Year'].replace('', pd.NA)\n",
    "df['Year'] = pd.to_numeric(df['Year'], errors='coerce').astype(pd.Int64Dtype())\n",
    "\n",
    "# Set 'X', 'Y' and 'Size' columns to float\n",
    "df['X'] = pd.to_numeric(df['X'], errors='coerce')\n",
    "df['Y'] = pd.to_numeric(df['Y'], errors='coerce')\n",
    "df['Size'] = pd.to_numeric(df['Size'], errors='coerce')\n",
    "\n",
    "print('Data loaded.')\n",
    "\n",
    "# Display dataframe for monitoring purposes\n",
    "#df"
   ]
  },
  {
   "cell_type": "markdown",
   "metadata": {
    "id": "Jlib5NsbX8p9"
   },
   "source": [
    "### Generate Markdown"
   ]
  },
  {
   "cell_type": "code",
   "execution_count": null,
   "metadata": {
    "id": "Wcm6EYORX8Ga"
   },
   "outputs": [],
   "source": [
    "def fillMarkdownTemplate(id, actorName, actorStatement, publicationDate, source):\n",
    "  return f'''# {id}\n",
    "\n",
    "{actorName}, stated on {source}, the {publicationDate}:\n",
    "\n",
    "{actorStatement}\n",
    "\n",
    "\n",
    "'''\n",
    "\n",
    "def makeMarkdown(df, filename):\n",
    "  # Fill template for each row\n",
    "  markdown = ''\n",
    "  for index, row in df.iterrows():\n",
    "    actor = df.at[index, 'Actor']\n",
    "    if df.at[index, 'Representative of']:\n",
    "      actor += \", \"+df.at[index, 'Representative of']\n",
    "    if df.at[index, 'Actor context']:\n",
    "      actor += f\" ({df.at[index, 'Actor context']})\"\n",
    "\n",
    "    source = df.at[index, 'Source name']\n",
    "    if df.at[index, 'Source type']:\n",
    "      source += \" (\"+df.at[index, 'Source type']+\")\"\n",
    "    markdown += fillMarkdownTemplate(df.at[index, 'id'], actor, df.at[index, 'Statement'], df.at[index, 'Date of publication'], source)\n",
    "\n",
    "  # Save markdown as file\n",
    "  with open(filename, 'w') as f:\n",
    "    f.write(markdown)\n",
    "  print(f'File created: {filename}.')"
   ]
  },
  {
   "cell_type": "code",
   "execution_count": null,
   "metadata": {
    "id": "0LqoslC9YGTM"
   },
   "outputs": [],
   "source": [
    "# Generate the files\n",
    "batch_size = 1000\n",
    "for i in range(0, len(df), batch_size):\n",
    "    df_batch = df.iloc[i:i + batch_size]\n",
    "    filename = f'Actor statements {i // batch_size + 1}.md'\n",
    "    makeMarkdown(df_batch, filename)\n",
    "\n",
    "print('Done.')"
   ]
  }
 ],
 "metadata": {
  "colab": {
   "authorship_tag": "ABX9TyPjhx911b8n95sIKrag5epB",
   "private_outputs": true,
   "provenance": []
  },
  "kernelspec": {
   "display_name": "Python 3 (ipykernel)",
   "language": "python",
   "name": "python3"
  },
  "language_info": {
   "codemirror_mode": {
    "name": "ipython",
    "version": 3
   },
   "file_extension": ".py",
   "mimetype": "text/x-python",
   "name": "python",
   "nbconvert_exporter": "python",
   "pygments_lexer": "ipython3",
   "version": "3.12.4"
  }
 },
 "nbformat": 4,
 "nbformat_minor": 4
}
