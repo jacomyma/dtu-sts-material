{
 "cells": [
  {
   "cell_type": "markdown",
   "metadata": {
    "id": "r2Ylz0LwmiHH"
   },
   "source": [
    "# Retrieve subcorpus - Filter and export\n",
    "\n",
    "*DTU - Explore the Energy Islands controversy*\n",
    "\n",
    "**Goal**:\n",
    "- Filter the dataset using a condition (a **query**)\n",
    "- Save the result as a CSV and/or as text\n",
    "\n",
    "**Purpose**:\n",
    "- Export a subcorpus CSV into another tool (ex: a spreadsheet)\n",
    "- Export the content as text to read it manually\n",
    "\n",
    "**How to use**:\n",
    "- Edit settings if you want\n",
    "- Then run all or execute from the edited cell and below\n",
    "- Wait for each cell to run\n",
    "- **Edit the query** as you see fit\n",
    "- Re-run that cell and the following ones to save the subcorpus\n",
    "- **Get** the subcorpus as a CSV and/or text file\n"
   ]
  },
  {
   "cell_type": "markdown",
   "metadata": {
    "id": "_jo9MevdmHvo"
   },
   "source": [
    "## Code\n",
    "\n",
    "(You don't have to understand what's going on here, but feel free to take a look)"
   ]
  },
  {
   "cell_type": "code",
   "execution_count": 3,
   "metadata": {
    "id": "H8Tbo1gYmIzS"
   },
   "outputs": [],
   "source": [
    "# Additional settings you shouldn't have to change\n",
    "settings = {}\n",
    "#settings['statements_dataset'] = '../../data/Actor statement dataset.csv' # Edit path to online or local file\n",
    "settings['statements_dataset'] = 'https://jacomyma.github.io/dtu-sts-material/data/Actor%20statement%20dataset.csv'"
   ]
  },
  {
   "cell_type": "markdown",
   "metadata": {
    "id": "a62B1tFsm9ch"
   },
   "source": [
    "### Install stuff\n",
    "Note: already installed libraries will not be reinstalled, don't worry about re-running that."
   ]
  },
  {
   "cell_type": "code",
   "execution_count": 5,
   "metadata": {
    "colab": {
     "base_uri": "https://localhost:8080/"
    },
    "id": "5HdeyDOomSpr",
    "outputId": "500f40c2-536f-49ab-d1b4-526cc0899979"
   },
   "outputs": [
    {
     "name": "stdout",
     "output_type": "stream",
     "text": [
      "Requirement already satisfied: pandas in /opt/anaconda3/lib/python3.12/site-packages (2.2.2)\n",
      "Requirement already satisfied: bokeh in /opt/anaconda3/lib/python3.12/site-packages (3.4.1)\n",
      "Requirement already satisfied: numpy>=1.26.0 in /opt/anaconda3/lib/python3.12/site-packages (from pandas) (1.26.4)\n",
      "Requirement already satisfied: python-dateutil>=2.8.2 in /opt/anaconda3/lib/python3.12/site-packages (from pandas) (2.9.0.post0)\n",
      "Requirement already satisfied: pytz>=2020.1 in /opt/anaconda3/lib/python3.12/site-packages (from pandas) (2024.1)\n",
      "Requirement already satisfied: tzdata>=2022.7 in /opt/anaconda3/lib/python3.12/site-packages (from pandas) (2023.3)\n",
      "Requirement already satisfied: Jinja2>=2.9 in /opt/anaconda3/lib/python3.12/site-packages (from bokeh) (3.1.4)\n",
      "Requirement already satisfied: contourpy>=1.2 in /opt/anaconda3/lib/python3.12/site-packages (from bokeh) (1.2.0)\n",
      "Requirement already satisfied: packaging>=16.8 in /opt/anaconda3/lib/python3.12/site-packages (from bokeh) (23.2)\n",
      "Requirement already satisfied: pillow>=7.1.0 in /opt/anaconda3/lib/python3.12/site-packages (from bokeh) (10.3.0)\n",
      "Requirement already satisfied: PyYAML>=3.10 in /opt/anaconda3/lib/python3.12/site-packages (from bokeh) (6.0.1)\n",
      "Requirement already satisfied: tornado>=6.2 in /opt/anaconda3/lib/python3.12/site-packages (from bokeh) (6.4.1)\n",
      "Requirement already satisfied: xyzservices>=2021.09.1 in /opt/anaconda3/lib/python3.12/site-packages (from bokeh) (2022.9.0)\n",
      "Requirement already satisfied: MarkupSafe>=2.0 in /opt/anaconda3/lib/python3.12/site-packages (from Jinja2>=2.9->bokeh) (2.1.3)\n",
      "Requirement already satisfied: six>=1.5 in /opt/anaconda3/lib/python3.12/site-packages (from python-dateutil>=2.8.2->pandas) (1.16.0)\n"
     ]
    }
   ],
   "source": [
    "!pip install pandas bokeh"
   ]
  },
  {
   "cell_type": "code",
   "execution_count": 6,
   "metadata": {
    "id": "aDDrY7KnnMxs"
   },
   "outputs": [],
   "source": [
    "# Import necessary libraries\n",
    "import pandas as pd\n",
    "import json\n",
    "import matplotlib.pyplot as plt\n",
    "\n",
    "import bokeh\n",
    "import bokeh.plotting as bp\n",
    "from bokeh.io import output_notebook, show\n",
    "from bokeh.models import ColumnDataSource, HoverTool, CategoricalColorMapper\n",
    "from bokeh.transform import factor_cmap"
   ]
  },
  {
   "cell_type": "markdown",
   "metadata": {
    "id": "qa2IEgP6ou_X"
   },
   "source": [
    "### Load data from the corpus"
   ]
  },
  {
   "cell_type": "code",
   "execution_count": 8,
   "metadata": {
    "colab": {
     "base_uri": "https://localhost:8080/"
    },
    "id": "QTVNExUio0GL",
    "outputId": "d686b5d8-f85c-4711-f049-2797c5019635"
   },
   "outputs": [
    {
     "name": "stdout",
     "output_type": "stream",
     "text": [
      "Data loaded.\n"
     ]
    }
   ],
   "source": [
    "# Load dataset\n",
    "df = pd.read_csv(settings['statements_dataset'], dtype=str)\n",
    "df = df.fillna('')\n",
    "\n",
    "# Set 'Year' column to int\n",
    "df['Year'] = df['Year'].replace('', pd.NA)\n",
    "df['Year'] = pd.to_numeric(df['Year'], errors='coerce').astype(pd.Int64Dtype())\n",
    "\n",
    "# Set 'X', 'Y' and 'Size' columns to float\n",
    "df['X'] = pd.to_numeric(df['X'], errors='coerce')\n",
    "df['Y'] = pd.to_numeric(df['Y'], errors='coerce')\n",
    "df['Size'] = pd.to_numeric(df['Size'], errors='coerce')\n",
    "\n",
    "print('Data loaded.')\n",
    "\n",
    "# Display dataframe for monitoring purposes\n",
    "#df"
   ]
  },
  {
   "cell_type": "markdown",
   "metadata": {
    "id": "PteyNn--L3U5"
   },
   "source": [
    "### Other prep we need"
   ]
  },
  {
   "cell_type": "code",
   "execution_count": 10,
   "metadata": {
    "id": "zMf0IUKmL4Op"
   },
   "outputs": [],
   "source": [
    "# This is the function we will use to visualize a matching condition\n",
    "def visualize(condition, title='Proportion of filtered items'):\n",
    "  # Make a copy of df\n",
    "  df_copy = df.copy()\n",
    "\n",
    "  # Mark each row of df_copy as filtered if the condition is fulfilled\n",
    "  df_copy['filtered'] = condition\n",
    "\n",
    "  # Plot a pie chart with counts and percentages\n",
    "  filtered_counts = df_copy['filtered'].value_counts()\n",
    "\n",
    "  def make_autopct(values):\n",
    "      def my_autopct(pct):\n",
    "          total = sum(values)\n",
    "          val = int(round(pct*total/100.0))\n",
    "          return '{p:.1f}%\\n({v:d})'.format(p=pct,v=val)\n",
    "      return my_autopct\n",
    "\n",
    "  # Define the colors for True and False\n",
    "  colors = ['#4deded' if label else '#EAEAEA' for label in filtered_counts.index]\n",
    "\n",
    "  # Create a figure with a small size\n",
    "  plt.figure(figsize=(3, 3))\n",
    "\n",
    "  plt.pie(filtered_counts, autopct=make_autopct(filtered_counts), colors=colors, startangle=90)\n",
    "  plt.title(title)\n",
    "  plt.show()"
   ]
  },
  {
   "cell_type": "markdown",
   "metadata": {
    "id": "63_tzrTnLedT"
   },
   "source": [
    "# Filtering condition (QUERY)\n",
    "\n",
    "**Edit the condition (the query)**, then run this cell and those below to update them. Also give a title to your query for clarity."
   ]
  },
  {
   "cell_type": "code",
   "execution_count": 12,
   "metadata": {
    "colab": {
     "base_uri": "https://localhost:8080/",
     "height": 290
    },
    "id": "BdBv5an0MC6k",
    "outputId": "cf23fcb4-b81f-4306-8e1a-ed46b9f8eb4a"
   },
   "outputs": [
    {
     "data": {
      "image/png": "[encoded data removed]",
      "text/plain": [
       "<Figure size 300x300 with 1 Axes>"
      ]
     },
     "metadata": {},
     "output_type": "display_data"
    }
   ],
   "source": [
    "# EDIT ME\n",
    "condition = (\n",
    "    (df['Statement'].str.contains('Bornholm', case=False, na=False))\n",
    "  & (df['Source type'] == \"Social media\")\n",
    ")\n",
    "\n",
    "# EDIT ME (give an appropriate title to the query)\n",
    "title = \"Bornholm on social media\"\n",
    "\n",
    "# Check that it works\n",
    "visualize(condition, title)"
   ]
  },
  {
   "cell_type": "markdown",
   "metadata": {
    "id": "dk5_gKuueMtK"
   },
   "source": [
    "# Extract subcorpus"
   ]
  },
  {
   "cell_type": "code",
   "execution_count": 14,
   "metadata": {
    "id": "y05m0qRtsiGo"
   },
   "outputs": [],
   "source": [
    "# Extract\n",
    "df_sub = df.copy()\n",
    "df_sub = df_sub[condition]"
   ]
  },
  {
   "cell_type": "code",
   "execution_count": 15,
   "metadata": {
    "id": "c4wbnbsosorg"
   },
   "outputs": [],
   "source": [
    "# Sanitize the title to create a valid filename\n",
    "import re\n",
    "# Replace any character that is not a letter, number, space, or underscore with an underscore\n",
    "sanitized_title = re.sub(r'[^\\w\\s-]', '', title)\n",
    "# Replace spaces with underscores\n",
    "sanitized_title = sanitized_title.replace(' ', '_')"
   ]
  },
  {
   "cell_type": "markdown",
   "metadata": {
    "id": "k0MYZpUmstqK"
   },
   "source": [
    "# Save as CSV"
   ]
  },
  {
   "cell_type": "code",
   "execution_count": 17,
   "metadata": {
    "colab": {
     "base_uri": "https://localhost:8080/"
    },
    "id": "EkaWnxdLl1vT",
    "outputId": "3f4c37a4-d1da-408c-d519-aaf2a38f6105"
   },
   "outputs": [
    {
     "name": "stdout",
     "output_type": "stream",
     "text": [
      "Subcorpus saved as Bornholm_on_social_media.csv.\n"
     ]
    }
   ],
   "source": [
    "# Save as CSV using the sanitized title for name\n",
    "df_sub.to_csv(sanitized_title + '.csv', index=False)\n",
    "\n",
    "print(f\"Subcorpus saved as {sanitized_title}.csv.\")"
   ]
  },
  {
   "cell_type": "markdown",
   "metadata": {
    "id": "T_exhcpQs2Zc"
   },
   "source": [
    "# Save as text\n",
    "\n",
    "Note: formatted in Markdown."
   ]
  },
  {
   "cell_type": "code",
   "execution_count": 19,
   "metadata": {
    "colab": {
     "base_uri": "https://localhost:8080/"
    },
    "id": "JFhMUcCbsz7o",
    "outputId": "76279fe9-c781-4d02-9f4b-8a82635a3e39"
   },
   "outputs": [
    {
     "name": "stdout",
     "output_type": "stream",
     "text": [
      "File created: Bornholm_on_social_media.txt.\n"
     ]
    }
   ],
   "source": [
    "def fillMarkdownTemplate(id, actorName, actorStatement, publicationDate, source):\n",
    "  return f'''# {id}\n",
    "\n",
    "*{actorName}, stated(†) on {source}, the {publicationDate}:*\n",
    "\n",
    "{actorStatement}\n",
    "\n",
    "\n",
    "'''\n",
    "\n",
    "def makeMarkdown(df, filename):\n",
    "  # Fill template for each row\n",
    "  markdown = ''\n",
    "  for index, row in df.iterrows():\n",
    "    actor = df.at[index, 'Actor']\n",
    "    if df.at[index, 'Representative of']:\n",
    "      actor += \", \"+df.at[index, 'Representative of']\n",
    "    if df.at[index, 'Actor context']:\n",
    "      actor += f\" ({df.at[index, 'Actor context']})\"\n",
    "\n",
    "    source = df.at[index, 'Source name']\n",
    "    if df.at[index, 'Source type']:\n",
    "      source += \" (\"+df.at[index, 'Source type']+\")\"\n",
    "    markdown += fillMarkdownTemplate(df.at[index, 'id'], actor, df.at[index, 'Statement'], df.at[index, 'Date of publication'], source)\n",
    "  markdown += '\\n\\n# IMPORTANT NOTE ABOUT STATEMENTS\\n\\n(†) The original statements have been modified to facilitate the data science process.'\n",
    "\n",
    "  # Save markdown as file\n",
    "  with open(filename, 'w') as f:\n",
    "    f.write(markdown)\n",
    "  print(f'File created: {filename}.')\n",
    "\n",
    "makeMarkdown(df_sub, sanitized_title + '.txt')"
   ]
  }
 ],
 "metadata": {
  "colab": {
   "authorship_tag": "ABX9TyNiAYpouDDzOIW8WFsF4Vuz",
   "include_colab_link": true,
   "provenance": []
  },
  "kernelspec": {
   "display_name": "Python 3 (ipykernel)",
   "language": "python",
   "name": "python3"
  },
  "language_info": {
   "codemirror_mode": {
    "name": "ipython",
    "version": 3
   },
   "file_extension": ".py",
   "mimetype": "text/x-python",
   "name": "python",
   "nbconvert_exporter": "python",
   "pygments_lexer": "ipython3",
   "version": "3.12.4"
  }
 },
 "nbformat": 4,
 "nbformat_minor": 4
}
